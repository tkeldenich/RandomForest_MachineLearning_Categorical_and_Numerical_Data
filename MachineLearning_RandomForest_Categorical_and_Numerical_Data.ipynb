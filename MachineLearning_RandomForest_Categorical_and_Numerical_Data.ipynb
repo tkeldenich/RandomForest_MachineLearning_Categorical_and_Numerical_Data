{
  "nbformat": 4,
  "nbformat_minor": 0,
  "metadata": {
    "kernelspec": {
      "name": "python3",
      "display_name": "Python 3",
      "language": "python"
    },
    "language_info": {
      "name": "python",
      "version": "3.7.9",
      "mimetype": "text/x-python",
      "codemirror_mode": {
        "name": "ipython",
        "version": 3
      },
      "pygments_lexer": "ipython3",
      "nbconvert_exporter": "python",
      "file_extension": ".py"
    },
    "colab": {
      "name": "MachineLearning_RandomForest_Categorical_and_Numerical_Data.ipynb",
      "provenance": [],
      "collapsed_sections": []
    }
  },
  "cells": [
    {
      "cell_type": "markdown",
      "metadata": {
        "id": "ZcltHqh10BRU"
      },
      "source": [
        "# **Être dans le top 10% d'une compétition Kaggle avec approche simple de Machine Learning** - [voir l'article](https://inside-machinelearning.com/top-10-dune-competition-kaggle-approche-simplee-machine-learning/)"
      ]
    },
    {
      "cell_type": "markdown",
      "metadata": {
        "id": "E-ZnUCIX0Ctn"
      },
      "source": [
        "Dans cet article je vous propose une **approche simple et rapide** pour réussir une **compétition Kaggle de Machine Learning !**\n",
        "\n",
        "Récemment, je me suis mis sur **Kaggle** pour tester mes **skills**.\n",
        "\n",
        "**Kaggle** est un site qui propose des **compétitions** d'analyse de données et de **Machine Learning**.\n",
        "\n",
        "Les plus **expérimentés** peuvent y **gagner des prix** allant jusqu'à **100.000$**.. attractif pour des **Data Scientists** comme nous !\n",
        "\n",
        "Ici je vous propose de voir comment **résoudre** une des **compétitions de base** de Kaggle : [Titanic - Machine Learning from Disaster](https://www.kaggle.com/c/titanic/overview).\n",
        "\n",
        "Un **cas classique de Machine Learning** où nous devons utiliser **plusieurs types de données** (chiffres et texte) pour faire une **prédiction**.\n",
        "\n",
        "**Commençons sans plus attendre !** ;)\n"
      ]
    },
    {
      "cell_type": "markdown",
      "metadata": {
        "id": "K8oVOFdl0C0Z"
      },
      "source": [
        "# **Comprendre les données**"
      ]
    },
    {
      "cell_type": "markdown",
      "metadata": {
        "id": "tUfKB5V6d5B0"
      },
      "source": [
        "## **Charger les données**"
      ]
    },
    {
      "cell_type": "markdown",
      "metadata": {
        "id": "-woK4EeUfeJC"
      },
      "source": [
        "Le but de cette **compétition** est de prédire selon **les caractéristiques d'une personne** (âge, sexe, ...) et **les caractéristiques de son voyage** à bord du Titanic (ticket, port d'embarcation, cabine, ...) si la personne **va survivre**.\n",
        "\n",
        "Ces **caractéristiques** sont nos données sur lesquels on va **entrainer notre modèle de Machine Learning** pour prédire la **survie des passagers**.\n",
        "\n",
        "On a accès ici à **deux fichiers** au format CSV:\n",
        "- train.csv pour **entraîner notre modèle**\n",
        "- test.csv pour **faire la prédiction**\n",
        "\n",
        "En fait, vu que c'est une **compétition Kaggle**, les données test ne seront **pas utiliser pour tester le modèle** car il n'y a pas de **données de vérification** (y_test).\n",
        "\n",
        "On a seulement les **informations**(x_test) **sur les voyageur du Titanic**. Ces données seront utilisés pour faire **une prédiction qu'on soumettra a Kaggle.**\n",
        "\n",
        "Ensuite cette prédiction sera **automatiquement comparé** par Kaggle avec les **données réelles** (y_test). L'**erreur entre notre prédiction et la réalité** définira notre note et donc **notre place dans la compétition.**\n",
        "\n",
        "Eh oui ! Si on avait **déjà le résultat** (y_test) on pourrait **facilement tricher.**\n"
      ]
    },
    {
      "cell_type": "markdown",
      "metadata": {
        "id": "ASeObBVMlPA3"
      },
      "source": [
        "Pour commencer, on **charge les données** depuis [Github](https://github.com/tkeldenich/RandomForest_MachineLearning_Categorical_and_Numerical_Data)."
      ]
    },
    {
      "cell_type": "code",
      "metadata": {
        "id": "sH58WC2DywwJ"
      },
      "source": [
        "!git clone https://github.com/tkeldenich/RandomForest_MachineLearning_Categorical_and_Numerical_Data.git &> /dev/null"
      ],
      "execution_count": 1,
      "outputs": []
    },
    {
      "cell_type": "markdown",
      "metadata": {
        "id": "kE4-5acqd_9r"
      },
      "source": [
        "## **Analyser les données**"
      ]
    },
    {
      "cell_type": "markdown",
      "metadata": {
        "id": "afnHQ94DlqaN"
      },
      "source": [
        "On importe les **librairies de base** pour gérer des données :\n",
        "- *numpy*\n",
        "- *pandas*"
      ]
    },
    {
      "cell_type": "code",
      "metadata": {
        "id": "iBN9gIC2mCkp"
      },
      "source": [
        "import numpy as np\n",
        "import pandas as pd"
      ],
      "execution_count": 2,
      "outputs": []
    },
    {
      "cell_type": "markdown",
      "metadata": {
        "id": "6PlwBoq3mquX"
      },
      "source": [
        "Dans un premier temps, on regarde **la structure de nos donnée**s :\n",
        "- **PassengerId**, le numéro du passager\n",
        "- **Survived**, si 1 le passager a survécu, 0 sinon (ce sont les données que nous devons prédire)\n",
        "- **Pclass**, la classe du passager 1 étant la meilleur, 3 la moins bonne\n",
        "- **Name**, le nom du passager\n",
        "- **Sex**, le sexe de l'individu\n",
        "- **Age**, l'âge du passager\n",
        "- **SibSp**, nombre de frère et sœur du passager à bord du Titanic\n",
        "- **Parch**, nombre de parents du passager à bord du Titanic\n",
        "- **Ticket**, le numéro du Ticket\n",
        "- **Fare**, prix du Ticket\n",
        "- **Cabin**, le numéro de cabine\n",
        "- **Embarked**, port d'embarcation C pour Cherbourg, Q pour Queenstown, S pour Southampton\n",
        "\n",
        "On **charge donc les données** et on les **affiche :**"
      ]
    },
    {
      "cell_type": "code",
      "metadata": {
        "_uuid": "8f2839f25d086af736a60e9eeb907d3b93b6e0e5",
        "_cell_guid": "b1076dfc-b9ad-4769-8c92-a6c4dae69d19",
        "trusted": true,
        "colab": {
          "base_uri": "https://localhost:8080/",
          "height": 111
        },
        "id": "KVX_NPtXylwS",
        "outputId": "2de36008-0af6-4dc5-da78-3463ced0160e"
      },
      "source": [
        "train_data = pd.read_csv(\"/content/RandomForest_MachineLearning_Categorical_and_Numerical_Data/train.csv\")\n",
        "\n",
        "train_data.head(2)"
      ],
      "execution_count": 3,
      "outputs": [
        {
          "output_type": "execute_result",
          "data": {
            "text/html": [
              "<div>\n",
              "<style scoped>\n",
              "    .dataframe tbody tr th:only-of-type {\n",
              "        vertical-align: middle;\n",
              "    }\n",
              "\n",
              "    .dataframe tbody tr th {\n",
              "        vertical-align: top;\n",
              "    }\n",
              "\n",
              "    .dataframe thead th {\n",
              "        text-align: right;\n",
              "    }\n",
              "</style>\n",
              "<table border=\"1\" class=\"dataframe\">\n",
              "  <thead>\n",
              "    <tr style=\"text-align: right;\">\n",
              "      <th></th>\n",
              "      <th>PassengerId</th>\n",
              "      <th>Survived</th>\n",
              "      <th>Pclass</th>\n",
              "      <th>Name</th>\n",
              "      <th>Sex</th>\n",
              "      <th>Age</th>\n",
              "      <th>SibSp</th>\n",
              "      <th>Parch</th>\n",
              "      <th>Ticket</th>\n",
              "      <th>Fare</th>\n",
              "      <th>Cabin</th>\n",
              "      <th>Embarked</th>\n",
              "    </tr>\n",
              "  </thead>\n",
              "  <tbody>\n",
              "    <tr>\n",
              "      <th>0</th>\n",
              "      <td>1</td>\n",
              "      <td>0</td>\n",
              "      <td>3</td>\n",
              "      <td>Braund, Mr. Owen Harris</td>\n",
              "      <td>male</td>\n",
              "      <td>22.0</td>\n",
              "      <td>1</td>\n",
              "      <td>0</td>\n",
              "      <td>A/5 21171</td>\n",
              "      <td>7.2500</td>\n",
              "      <td>NaN</td>\n",
              "      <td>S</td>\n",
              "    </tr>\n",
              "    <tr>\n",
              "      <th>1</th>\n",
              "      <td>2</td>\n",
              "      <td>1</td>\n",
              "      <td>1</td>\n",
              "      <td>Cumings, Mrs. John Bradley (Florence Briggs Th...</td>\n",
              "      <td>female</td>\n",
              "      <td>38.0</td>\n",
              "      <td>1</td>\n",
              "      <td>0</td>\n",
              "      <td>PC 17599</td>\n",
              "      <td>71.2833</td>\n",
              "      <td>C85</td>\n",
              "      <td>C</td>\n",
              "    </tr>\n",
              "  </tbody>\n",
              "</table>\n",
              "</div>"
            ],
            "text/plain": [
              "   PassengerId  Survived  Pclass  ...     Fare Cabin  Embarked\n",
              "0            1         0       3  ...   7.2500   NaN         S\n",
              "1            2         1       1  ...  71.2833   C85         C\n",
              "\n",
              "[2 rows x 12 columns]"
            ]
          },
          "metadata": {
            "tags": []
          },
          "execution_count": 3
        }
      ]
    },
    {
      "cell_type": "markdown",
      "metadata": {
        "id": "wVJpHfvjq3My"
      },
      "source": [
        "On peut aussi regarder les **données de test** et on voit que la colonne **Survived** n'est effectivement **pas présente** comme expliqué précédemment."
      ]
    },
    {
      "cell_type": "code",
      "metadata": {
        "colab": {
          "base_uri": "https://localhost:8080/",
          "height": 111
        },
        "id": "yX2V9kGvl4O6",
        "outputId": "79aa4559-cae8-4ab0-ba66-e606611ccf05"
      },
      "source": [
        "test_data = pd.read_csv(\"/content/RandomForest_MachineLearning_Categorical_and_Numerical_Data/test.csv\")\n",
        "\n",
        "test_data.head(2)"
      ],
      "execution_count": 4,
      "outputs": [
        {
          "output_type": "execute_result",
          "data": {
            "text/html": [
              "<div>\n",
              "<style scoped>\n",
              "    .dataframe tbody tr th:only-of-type {\n",
              "        vertical-align: middle;\n",
              "    }\n",
              "\n",
              "    .dataframe tbody tr th {\n",
              "        vertical-align: top;\n",
              "    }\n",
              "\n",
              "    .dataframe thead th {\n",
              "        text-align: right;\n",
              "    }\n",
              "</style>\n",
              "<table border=\"1\" class=\"dataframe\">\n",
              "  <thead>\n",
              "    <tr style=\"text-align: right;\">\n",
              "      <th></th>\n",
              "      <th>PassengerId</th>\n",
              "      <th>Pclass</th>\n",
              "      <th>Name</th>\n",
              "      <th>Sex</th>\n",
              "      <th>Age</th>\n",
              "      <th>SibSp</th>\n",
              "      <th>Parch</th>\n",
              "      <th>Ticket</th>\n",
              "      <th>Fare</th>\n",
              "      <th>Cabin</th>\n",
              "      <th>Embarked</th>\n",
              "    </tr>\n",
              "  </thead>\n",
              "  <tbody>\n",
              "    <tr>\n",
              "      <th>0</th>\n",
              "      <td>892</td>\n",
              "      <td>3</td>\n",
              "      <td>Kelly, Mr. James</td>\n",
              "      <td>male</td>\n",
              "      <td>34.5</td>\n",
              "      <td>0</td>\n",
              "      <td>0</td>\n",
              "      <td>330911</td>\n",
              "      <td>7.8292</td>\n",
              "      <td>NaN</td>\n",
              "      <td>Q</td>\n",
              "    </tr>\n",
              "    <tr>\n",
              "      <th>1</th>\n",
              "      <td>893</td>\n",
              "      <td>3</td>\n",
              "      <td>Wilkes, Mrs. James (Ellen Needs)</td>\n",
              "      <td>female</td>\n",
              "      <td>47.0</td>\n",
              "      <td>1</td>\n",
              "      <td>0</td>\n",
              "      <td>363272</td>\n",
              "      <td>7.0000</td>\n",
              "      <td>NaN</td>\n",
              "      <td>S</td>\n",
              "    </tr>\n",
              "  </tbody>\n",
              "</table>\n",
              "</div>"
            ],
            "text/plain": [
              "   PassengerId  Pclass                              Name  ...    Fare  Cabin  Embarked\n",
              "0          892       3                  Kelly, Mr. James  ...  7.8292    NaN         Q\n",
              "1          893       3  Wilkes, Mrs. James (Ellen Needs)  ...  7.0000    NaN         S\n",
              "\n",
              "[2 rows x 11 columns]"
            ]
          },
          "metadata": {
            "tags": []
          },
          "execution_count": 4
        }
      ]
    },
    {
      "cell_type": "markdown",
      "metadata": {
        "id": "B-dSTfWwrb5q"
      },
      "source": [
        "Ensuite, **pour plus de commodités**, on sépare la **colonne à prédire Survived** des autres colonnes de note dataset."
      ]
    },
    {
      "cell_type": "code",
      "metadata": {
        "trusted": true,
        "id": "AO2vx8QeylwW"
      },
      "source": [
        "train_targets = train_data[['Survived']]\n",
        "train_data = train_data.drop('Survived', axis = 1)"
      ],
      "execution_count": 5,
      "outputs": []
    },
    {
      "cell_type": "markdown",
      "metadata": {
        "id": "945i7PtCr7rG"
      },
      "source": [
        "Avant d'effectuer le preprocessing **on rassemble les données d'entraînement et de test** dans un même dataset pour que la **transformation** s'applique sur toute nos données."
      ]
    },
    {
      "cell_type": "code",
      "metadata": {
        "id": "7jtmN3EzmL2m"
      },
      "source": [
        "data = pd.concat([train_data, test_data])"
      ],
      "execution_count": 6,
      "outputs": []
    },
    {
      "cell_type": "markdown",
      "metadata": {
        "id": "-KfIRab0eEQV"
      },
      "source": [
        "## **Processing des données**"
      ]
    },
    {
      "cell_type": "markdown",
      "metadata": {
        "id": "2kkofhBz7ncr"
      },
      "source": [
        "### **Transformation**"
      ]
    },
    {
      "cell_type": "markdown",
      "metadata": {
        "id": "90u11EQjvtNs"
      },
      "source": [
        "Vient l'étape **la plus importante** du Machine Learning : **le preprocessing.**\n",
        "\n",
        "Le **preprocessing** consiste à **transformer les données** pour que **le modèle de Machine Learning** puisse les ingurgiter, les **comprendre.**\n",
        "\n",
        "Ici quelques données nous **posent problèmes**, ce sont **les données catégorielles** (par opposition aux données numériques).\n",
        "\n",
        "Par exemple la colonne **Embarked**. Elle n'a pas de données chiffrées. Au contraire, elle possède **des catégories** :\n",
        "- Cherbourg\n",
        "- Queenstown\n",
        "- Southampton\n",
        "\n",
        "Il faut  **transformer ces données en chiffres** pour que le modèle de Machine Learning puissent les comprendre, **les interpréter.**\n",
        "\n",
        "Pour cela on utilise le **One-Hot Encoding** dont on a déjà parlé dans [cet article](https://inside-machinelearning.com/preprocessing-nlp-tutoriel-pour-nettoyer-rapidement-un-texte/)."
      ]
    },
    {
      "cell_type": "markdown",
      "metadata": {
        "id": "BmRz-tzXx8fF"
      },
      "source": [
        "La **librairie** *pandas* nous offre une manière simple et rapide d'effectuer le **One-Hot Encoding** : la fonction *get_dummies()*.\n",
        "\n",
        "Elle **transforme une colonne** d'un dataframe **en plusieurs colonnes One-Hot encoded.**\n",
        "\n",
        "Par exemple, avec la colonne **Embarked**, on a **trois catégories.** Eh bien *get_dummies()* va créer **trois colonnes** qui représenteront chacune **une catégorie**.\n",
        "\n",
        "On aura donc une colonne pour **Cherbourg**, une pour **Queenstown** et une autre pour **Southampton.**\n",
        "\n",
        "Si un **passager** a embarqué à **Cherbourg** un **1** sera inscrit **dans cette colonne** et un **0 dans les autres.** Cela pour chaque passager **selon le port embarqué.**\n",
        "\n",
        "**Concrétement**, voilà ce que ça donne :"
      ]
    },
    {
      "cell_type": "code",
      "metadata": {
        "colab": {
          "base_uri": "https://localhost:8080/",
          "height": 204
        },
        "id": "6WetVX6EzYDl",
        "outputId": "d172cefc-decb-44cc-929d-91ff73120481"
      },
      "source": [
        "pd.get_dummies(data[\"Embarked\"]).head()"
      ],
      "execution_count": 7,
      "outputs": [
        {
          "output_type": "execute_result",
          "data": {
            "text/html": [
              "<div>\n",
              "<style scoped>\n",
              "    .dataframe tbody tr th:only-of-type {\n",
              "        vertical-align: middle;\n",
              "    }\n",
              "\n",
              "    .dataframe tbody tr th {\n",
              "        vertical-align: top;\n",
              "    }\n",
              "\n",
              "    .dataframe thead th {\n",
              "        text-align: right;\n",
              "    }\n",
              "</style>\n",
              "<table border=\"1\" class=\"dataframe\">\n",
              "  <thead>\n",
              "    <tr style=\"text-align: right;\">\n",
              "      <th></th>\n",
              "      <th>C</th>\n",
              "      <th>Q</th>\n",
              "      <th>S</th>\n",
              "    </tr>\n",
              "  </thead>\n",
              "  <tbody>\n",
              "    <tr>\n",
              "      <th>0</th>\n",
              "      <td>0</td>\n",
              "      <td>0</td>\n",
              "      <td>1</td>\n",
              "    </tr>\n",
              "    <tr>\n",
              "      <th>1</th>\n",
              "      <td>1</td>\n",
              "      <td>0</td>\n",
              "      <td>0</td>\n",
              "    </tr>\n",
              "    <tr>\n",
              "      <th>2</th>\n",
              "      <td>0</td>\n",
              "      <td>0</td>\n",
              "      <td>1</td>\n",
              "    </tr>\n",
              "    <tr>\n",
              "      <th>3</th>\n",
              "      <td>0</td>\n",
              "      <td>0</td>\n",
              "      <td>1</td>\n",
              "    </tr>\n",
              "    <tr>\n",
              "      <th>4</th>\n",
              "      <td>0</td>\n",
              "      <td>0</td>\n",
              "      <td>1</td>\n",
              "    </tr>\n",
              "  </tbody>\n",
              "</table>\n",
              "</div>"
            ],
            "text/plain": [
              "   C  Q  S\n",
              "0  0  0  1\n",
              "1  1  0  0\n",
              "2  0  0  1\n",
              "3  0  0  1\n",
              "4  0  0  1"
            ]
          },
          "metadata": {
            "tags": []
          },
          "execution_count": 7
        }
      ]
    },
    {
      "cell_type": "markdown",
      "metadata": {
        "id": "7QdLOsoPzkJa"
      },
      "source": [
        "Cela veut dire que **le passager numéro 0** à embarquer à **Southampton**, le **numéro 1** à **Cherbourg** le **numéro 2** à **Southampton** etc."
      ]
    },
    {
      "cell_type": "markdown",
      "metadata": {
        "id": "b_aXqPiVzsx3"
      },
      "source": [
        "On va appliquer ce **One-Hot Encoding** sur **les colonnes que l'on estime importante** pour déterminer si une personne à **survécu ou non.**\n",
        "\n",
        "On choisit ici :\n",
        "- **Embarked**\n",
        "- **Sex**\n",
        "- **Cabin**"
      ]
    },
    {
      "cell_type": "code",
      "metadata": {
        "trusted": true,
        "id": "bkbXnRf6ylwX"
      },
      "source": [
        "features = [\"Embarked\", \"Sex\", \"Cabin\"]\n",
        "new_data = pd.get_dummies(data[features])"
      ],
      "execution_count": 8,
      "outputs": []
    },
    {
      "cell_type": "markdown",
      "metadata": {
        "id": "PfhQQLzSz9dm"
      },
      "source": [
        "En plus de **ces données catégorielles** processées, on ajoute **les données chiffrées** importantes."
      ]
    },
    {
      "cell_type": "markdown",
      "metadata": {
        "id": "oviDm4il7idN"
      },
      "source": [
        "### **Vérification**"
      ]
    },
    {
      "cell_type": "markdown",
      "metadata": {
        "id": "ITk7GQLU7iwC"
      },
      "source": [
        "Avec cela on devrait avoir un **bon dataset** pour faire notre **prédiction** !"
      ]
    },
    {
      "cell_type": "code",
      "metadata": {
        "trusted": true,
        "id": "DDW1qwWyylwY"
      },
      "source": [
        "new_data = pd.concat([new_data,data[['Pclass', 'Age', 'SibSp', 'Parch']]], axis = 1)"
      ],
      "execution_count": 9,
      "outputs": []
    },
    {
      "cell_type": "markdown",
      "metadata": {
        "id": "GqbDehWkJaqm"
      },
      "source": [
        "Puis, on peut **afficher notre dataset :**"
      ]
    },
    {
      "cell_type": "code",
      "metadata": {
        "colab": {
          "base_uri": "https://localhost:8080/",
          "height": 177
        },
        "id": "uinMhwMQJY9y",
        "outputId": "24bb8022-f639-49a6-826b-133bb96c298b"
      },
      "source": [
        "new_data.head(2)"
      ],
      "execution_count": 10,
      "outputs": [
        {
          "output_type": "execute_result",
          "data": {
            "text/html": [
              "<div>\n",
              "<style scoped>\n",
              "    .dataframe tbody tr th:only-of-type {\n",
              "        vertical-align: middle;\n",
              "    }\n",
              "\n",
              "    .dataframe tbody tr th {\n",
              "        vertical-align: top;\n",
              "    }\n",
              "\n",
              "    .dataframe thead th {\n",
              "        text-align: right;\n",
              "    }\n",
              "</style>\n",
              "<table border=\"1\" class=\"dataframe\">\n",
              "  <thead>\n",
              "    <tr style=\"text-align: right;\">\n",
              "      <th></th>\n",
              "      <th>Embarked_C</th>\n",
              "      <th>Embarked_Q</th>\n",
              "      <th>Embarked_S</th>\n",
              "      <th>Sex_female</th>\n",
              "      <th>Sex_male</th>\n",
              "      <th>Cabin_A10</th>\n",
              "      <th>Cabin_A11</th>\n",
              "      <th>Cabin_A14</th>\n",
              "      <th>Cabin_A16</th>\n",
              "      <th>Cabin_A18</th>\n",
              "      <th>Cabin_A19</th>\n",
              "      <th>Cabin_A20</th>\n",
              "      <th>Cabin_A21</th>\n",
              "      <th>Cabin_A23</th>\n",
              "      <th>Cabin_A24</th>\n",
              "      <th>Cabin_A26</th>\n",
              "      <th>Cabin_A29</th>\n",
              "      <th>Cabin_A31</th>\n",
              "      <th>Cabin_A32</th>\n",
              "      <th>Cabin_A34</th>\n",
              "      <th>Cabin_A36</th>\n",
              "      <th>Cabin_A5</th>\n",
              "      <th>Cabin_A6</th>\n",
              "      <th>Cabin_A7</th>\n",
              "      <th>Cabin_A9</th>\n",
              "      <th>Cabin_B10</th>\n",
              "      <th>Cabin_B101</th>\n",
              "      <th>Cabin_B102</th>\n",
              "      <th>Cabin_B11</th>\n",
              "      <th>Cabin_B18</th>\n",
              "      <th>Cabin_B19</th>\n",
              "      <th>Cabin_B20</th>\n",
              "      <th>Cabin_B22</th>\n",
              "      <th>Cabin_B24</th>\n",
              "      <th>Cabin_B26</th>\n",
              "      <th>Cabin_B28</th>\n",
              "      <th>Cabin_B3</th>\n",
              "      <th>Cabin_B30</th>\n",
              "      <th>Cabin_B35</th>\n",
              "      <th>Cabin_B36</th>\n",
              "      <th>...</th>\n",
              "      <th>Cabin_E121</th>\n",
              "      <th>Cabin_E17</th>\n",
              "      <th>Cabin_E24</th>\n",
              "      <th>Cabin_E25</th>\n",
              "      <th>Cabin_E31</th>\n",
              "      <th>Cabin_E33</th>\n",
              "      <th>Cabin_E34</th>\n",
              "      <th>Cabin_E36</th>\n",
              "      <th>Cabin_E38</th>\n",
              "      <th>Cabin_E39 E41</th>\n",
              "      <th>Cabin_E40</th>\n",
              "      <th>Cabin_E44</th>\n",
              "      <th>Cabin_E45</th>\n",
              "      <th>Cabin_E46</th>\n",
              "      <th>Cabin_E49</th>\n",
              "      <th>Cabin_E50</th>\n",
              "      <th>Cabin_E52</th>\n",
              "      <th>Cabin_E58</th>\n",
              "      <th>Cabin_E60</th>\n",
              "      <th>Cabin_E63</th>\n",
              "      <th>Cabin_E67</th>\n",
              "      <th>Cabin_E68</th>\n",
              "      <th>Cabin_E77</th>\n",
              "      <th>Cabin_E8</th>\n",
              "      <th>Cabin_F</th>\n",
              "      <th>Cabin_F E46</th>\n",
              "      <th>Cabin_F E57</th>\n",
              "      <th>Cabin_F E69</th>\n",
              "      <th>Cabin_F G63</th>\n",
              "      <th>Cabin_F G73</th>\n",
              "      <th>Cabin_F2</th>\n",
              "      <th>Cabin_F33</th>\n",
              "      <th>Cabin_F38</th>\n",
              "      <th>Cabin_F4</th>\n",
              "      <th>Cabin_G6</th>\n",
              "      <th>Cabin_T</th>\n",
              "      <th>Pclass</th>\n",
              "      <th>Age</th>\n",
              "      <th>SibSp</th>\n",
              "      <th>Parch</th>\n",
              "    </tr>\n",
              "  </thead>\n",
              "  <tbody>\n",
              "    <tr>\n",
              "      <th>0</th>\n",
              "      <td>0</td>\n",
              "      <td>0</td>\n",
              "      <td>1</td>\n",
              "      <td>0</td>\n",
              "      <td>1</td>\n",
              "      <td>0</td>\n",
              "      <td>0</td>\n",
              "      <td>0</td>\n",
              "      <td>0</td>\n",
              "      <td>0</td>\n",
              "      <td>0</td>\n",
              "      <td>0</td>\n",
              "      <td>0</td>\n",
              "      <td>0</td>\n",
              "      <td>0</td>\n",
              "      <td>0</td>\n",
              "      <td>0</td>\n",
              "      <td>0</td>\n",
              "      <td>0</td>\n",
              "      <td>0</td>\n",
              "      <td>0</td>\n",
              "      <td>0</td>\n",
              "      <td>0</td>\n",
              "      <td>0</td>\n",
              "      <td>0</td>\n",
              "      <td>0</td>\n",
              "      <td>0</td>\n",
              "      <td>0</td>\n",
              "      <td>0</td>\n",
              "      <td>0</td>\n",
              "      <td>0</td>\n",
              "      <td>0</td>\n",
              "      <td>0</td>\n",
              "      <td>0</td>\n",
              "      <td>0</td>\n",
              "      <td>0</td>\n",
              "      <td>0</td>\n",
              "      <td>0</td>\n",
              "      <td>0</td>\n",
              "      <td>0</td>\n",
              "      <td>...</td>\n",
              "      <td>0</td>\n",
              "      <td>0</td>\n",
              "      <td>0</td>\n",
              "      <td>0</td>\n",
              "      <td>0</td>\n",
              "      <td>0</td>\n",
              "      <td>0</td>\n",
              "      <td>0</td>\n",
              "      <td>0</td>\n",
              "      <td>0</td>\n",
              "      <td>0</td>\n",
              "      <td>0</td>\n",
              "      <td>0</td>\n",
              "      <td>0</td>\n",
              "      <td>0</td>\n",
              "      <td>0</td>\n",
              "      <td>0</td>\n",
              "      <td>0</td>\n",
              "      <td>0</td>\n",
              "      <td>0</td>\n",
              "      <td>0</td>\n",
              "      <td>0</td>\n",
              "      <td>0</td>\n",
              "      <td>0</td>\n",
              "      <td>0</td>\n",
              "      <td>0</td>\n",
              "      <td>0</td>\n",
              "      <td>0</td>\n",
              "      <td>0</td>\n",
              "      <td>0</td>\n",
              "      <td>0</td>\n",
              "      <td>0</td>\n",
              "      <td>0</td>\n",
              "      <td>0</td>\n",
              "      <td>0</td>\n",
              "      <td>0</td>\n",
              "      <td>3</td>\n",
              "      <td>22.0</td>\n",
              "      <td>1</td>\n",
              "      <td>0</td>\n",
              "    </tr>\n",
              "    <tr>\n",
              "      <th>1</th>\n",
              "      <td>1</td>\n",
              "      <td>0</td>\n",
              "      <td>0</td>\n",
              "      <td>1</td>\n",
              "      <td>0</td>\n",
              "      <td>0</td>\n",
              "      <td>0</td>\n",
              "      <td>0</td>\n",
              "      <td>0</td>\n",
              "      <td>0</td>\n",
              "      <td>0</td>\n",
              "      <td>0</td>\n",
              "      <td>0</td>\n",
              "      <td>0</td>\n",
              "      <td>0</td>\n",
              "      <td>0</td>\n",
              "      <td>0</td>\n",
              "      <td>0</td>\n",
              "      <td>0</td>\n",
              "      <td>0</td>\n",
              "      <td>0</td>\n",
              "      <td>0</td>\n",
              "      <td>0</td>\n",
              "      <td>0</td>\n",
              "      <td>0</td>\n",
              "      <td>0</td>\n",
              "      <td>0</td>\n",
              "      <td>0</td>\n",
              "      <td>0</td>\n",
              "      <td>0</td>\n",
              "      <td>0</td>\n",
              "      <td>0</td>\n",
              "      <td>0</td>\n",
              "      <td>0</td>\n",
              "      <td>0</td>\n",
              "      <td>0</td>\n",
              "      <td>0</td>\n",
              "      <td>0</td>\n",
              "      <td>0</td>\n",
              "      <td>0</td>\n",
              "      <td>...</td>\n",
              "      <td>0</td>\n",
              "      <td>0</td>\n",
              "      <td>0</td>\n",
              "      <td>0</td>\n",
              "      <td>0</td>\n",
              "      <td>0</td>\n",
              "      <td>0</td>\n",
              "      <td>0</td>\n",
              "      <td>0</td>\n",
              "      <td>0</td>\n",
              "      <td>0</td>\n",
              "      <td>0</td>\n",
              "      <td>0</td>\n",
              "      <td>0</td>\n",
              "      <td>0</td>\n",
              "      <td>0</td>\n",
              "      <td>0</td>\n",
              "      <td>0</td>\n",
              "      <td>0</td>\n",
              "      <td>0</td>\n",
              "      <td>0</td>\n",
              "      <td>0</td>\n",
              "      <td>0</td>\n",
              "      <td>0</td>\n",
              "      <td>0</td>\n",
              "      <td>0</td>\n",
              "      <td>0</td>\n",
              "      <td>0</td>\n",
              "      <td>0</td>\n",
              "      <td>0</td>\n",
              "      <td>0</td>\n",
              "      <td>0</td>\n",
              "      <td>0</td>\n",
              "      <td>0</td>\n",
              "      <td>0</td>\n",
              "      <td>0</td>\n",
              "      <td>1</td>\n",
              "      <td>38.0</td>\n",
              "      <td>1</td>\n",
              "      <td>0</td>\n",
              "    </tr>\n",
              "  </tbody>\n",
              "</table>\n",
              "<p>2 rows × 195 columns</p>\n",
              "</div>"
            ],
            "text/plain": [
              "   Embarked_C  Embarked_Q  Embarked_S  Sex_female  ...  Pclass   Age  SibSp  Parch\n",
              "0           0           0           1           0  ...       3  22.0      1      0\n",
              "1           1           0           0           1  ...       1  38.0      1      0\n",
              "\n",
              "[2 rows x 195 columns]"
            ]
          },
          "metadata": {
            "tags": []
          },
          "execution_count": 10
        }
      ]
    },
    {
      "cell_type": "markdown",
      "metadata": {
        "id": "jtcPA3Jzwf3Z"
      },
      "source": [
        "Il y a aussi d'autres types de donnés qui sont **ni chiffrées, ni catégoriques.** Par exemple la colonne **Ticket** est une chaîne de caractère indiquant **le numéro de ticket** du passager.\n",
        "\n",
        "Pour le coup, c'est **typiquement** une donnée qui ne nous indiquera pas si le passager survivra ou non. Au contraire, le numéro de ticket agit plutôt **comme PassengerId**, un numéro qui permet de **différencier un passager d'un autre.**\n",
        "\n",
        "Pas besoin dans ce cas de **le prendre en compte.**"
      ]
    },
    {
      "cell_type": "markdown",
      "metadata": {
        "id": "5TfjB8_Y06pW"
      },
      "source": [
        "Une **vérification intéressante** néanmoins est de voir si notre dataset est **totalement rempli**, s'il n'y a **pas de valeur manquante.**\n",
        "\n",
        "On peut utiliser les **librairies** *matplotlib* et *seaborn* pour cela.\n",
        "\n",
        "Elles permettent de nous **afficher** joliement où se trouvent nos **données manquantes** (les lignes jaunes).\n",
        "\n",
        "**Dans notre cas**, elles sont au niveau de la colonne **Age** et **Cabin**. Par ailleurs, il y a **beaucoup de données manquantes** dans cette dernière."
      ]
    },
    {
      "cell_type": "code",
      "metadata": {
        "colab": {
          "base_uri": "https://localhost:8080/",
          "height": 281
        },
        "id": "Z32C-YJ5dzTt",
        "outputId": "3b5caea5-d43c-44d3-ec38-6733cbcc45fc"
      },
      "source": [
        "from matplotlib import pyplot as plt\n",
        "import seaborn as sns\n",
        "\n",
        "plt.figure(figsize=(12,4))\n",
        "sns.heatmap(data.isnull(),cbar=False,cmap='viridis',yticklabels=False)\n",
        "plt.title('Missing value in the dataset');"
      ],
      "execution_count": 11,
      "outputs": [
        {
          "output_type": "display_data",
          "data": {
            "image/png": "[encoded data removed]",
            "text/plain": [
              "<Figure size 864x288 with 1 Axes>"
            ]
          },
          "metadata": {
            "tags": [],
            "needs_background": "light"
          }
        }
      ]
    },
    {
      "cell_type": "markdown",
      "metadata": {
        "id": "HpsuTQ3V10Je"
      },
      "source": [
        "Le **modèle n'acceptera pas** ces données manquantes écrites **NaN**.\n",
        "\n",
        "On utilise alors la fonction *fillna(0)* qui **remplace** tous les **NaN par 0.** Cela permettra à notre modèle de Machine Learning de **comprendre que ces valeurs sont nulles.**"
      ]
    },
    {
      "cell_type": "code",
      "metadata": {
        "trusted": true,
        "colab": {
          "base_uri": "https://localhost:8080/",
          "height": 208
        },
        "id": "uBoAZkcqylwY",
        "outputId": "9dc3dac7-2bb9-4db2-dd84-b6b1b4a5a716"
      },
      "source": [
        "new_data = new_data.fillna(0)\n",
        "new_data.head(3)"
      ],
      "execution_count": 12,
      "outputs": [
        {
          "output_type": "execute_result",
          "data": {
            "text/html": [
              "<div>\n",
              "<style scoped>\n",
              "    .dataframe tbody tr th:only-of-type {\n",
              "        vertical-align: middle;\n",
              "    }\n",
              "\n",
              "    .dataframe tbody tr th {\n",
              "        vertical-align: top;\n",
              "    }\n",
              "\n",
              "    .dataframe thead th {\n",
              "        text-align: right;\n",
              "    }\n",
              "</style>\n",
              "<table border=\"1\" class=\"dataframe\">\n",
              "  <thead>\n",
              "    <tr style=\"text-align: right;\">\n",
              "      <th></th>\n",
              "      <th>Embarked_C</th>\n",
              "      <th>Embarked_Q</th>\n",
              "      <th>Embarked_S</th>\n",
              "      <th>Sex_female</th>\n",
              "      <th>Sex_male</th>\n",
              "      <th>Cabin_A10</th>\n",
              "      <th>Cabin_A11</th>\n",
              "      <th>Cabin_A14</th>\n",
              "      <th>Cabin_A16</th>\n",
              "      <th>Cabin_A18</th>\n",
              "      <th>Cabin_A19</th>\n",
              "      <th>Cabin_A20</th>\n",
              "      <th>Cabin_A21</th>\n",
              "      <th>Cabin_A23</th>\n",
              "      <th>Cabin_A24</th>\n",
              "      <th>Cabin_A26</th>\n",
              "      <th>Cabin_A29</th>\n",
              "      <th>Cabin_A31</th>\n",
              "      <th>Cabin_A32</th>\n",
              "      <th>Cabin_A34</th>\n",
              "      <th>Cabin_A36</th>\n",
              "      <th>Cabin_A5</th>\n",
              "      <th>Cabin_A6</th>\n",
              "      <th>Cabin_A7</th>\n",
              "      <th>Cabin_A9</th>\n",
              "      <th>Cabin_B10</th>\n",
              "      <th>Cabin_B101</th>\n",
              "      <th>Cabin_B102</th>\n",
              "      <th>Cabin_B11</th>\n",
              "      <th>Cabin_B18</th>\n",
              "      <th>Cabin_B19</th>\n",
              "      <th>Cabin_B20</th>\n",
              "      <th>Cabin_B22</th>\n",
              "      <th>Cabin_B24</th>\n",
              "      <th>Cabin_B26</th>\n",
              "      <th>Cabin_B28</th>\n",
              "      <th>Cabin_B3</th>\n",
              "      <th>Cabin_B30</th>\n",
              "      <th>Cabin_B35</th>\n",
              "      <th>Cabin_B36</th>\n",
              "      <th>...</th>\n",
              "      <th>Cabin_E121</th>\n",
              "      <th>Cabin_E17</th>\n",
              "      <th>Cabin_E24</th>\n",
              "      <th>Cabin_E25</th>\n",
              "      <th>Cabin_E31</th>\n",
              "      <th>Cabin_E33</th>\n",
              "      <th>Cabin_E34</th>\n",
              "      <th>Cabin_E36</th>\n",
              "      <th>Cabin_E38</th>\n",
              "      <th>Cabin_E39 E41</th>\n",
              "      <th>Cabin_E40</th>\n",
              "      <th>Cabin_E44</th>\n",
              "      <th>Cabin_E45</th>\n",
              "      <th>Cabin_E46</th>\n",
              "      <th>Cabin_E49</th>\n",
              "      <th>Cabin_E50</th>\n",
              "      <th>Cabin_E52</th>\n",
              "      <th>Cabin_E58</th>\n",
              "      <th>Cabin_E60</th>\n",
              "      <th>Cabin_E63</th>\n",
              "      <th>Cabin_E67</th>\n",
              "      <th>Cabin_E68</th>\n",
              "      <th>Cabin_E77</th>\n",
              "      <th>Cabin_E8</th>\n",
              "      <th>Cabin_F</th>\n",
              "      <th>Cabin_F E46</th>\n",
              "      <th>Cabin_F E57</th>\n",
              "      <th>Cabin_F E69</th>\n",
              "      <th>Cabin_F G63</th>\n",
              "      <th>Cabin_F G73</th>\n",
              "      <th>Cabin_F2</th>\n",
              "      <th>Cabin_F33</th>\n",
              "      <th>Cabin_F38</th>\n",
              "      <th>Cabin_F4</th>\n",
              "      <th>Cabin_G6</th>\n",
              "      <th>Cabin_T</th>\n",
              "      <th>Pclass</th>\n",
              "      <th>Age</th>\n",
              "      <th>SibSp</th>\n",
              "      <th>Parch</th>\n",
              "    </tr>\n",
              "  </thead>\n",
              "  <tbody>\n",
              "    <tr>\n",
              "      <th>0</th>\n",
              "      <td>0</td>\n",
              "      <td>0</td>\n",
              "      <td>1</td>\n",
              "      <td>0</td>\n",
              "      <td>1</td>\n",
              "      <td>0</td>\n",
              "      <td>0</td>\n",
              "      <td>0</td>\n",
              "      <td>0</td>\n",
              "      <td>0</td>\n",
              "      <td>0</td>\n",
              "      <td>0</td>\n",
              "      <td>0</td>\n",
              "      <td>0</td>\n",
              "      <td>0</td>\n",
              "      <td>0</td>\n",
              "      <td>0</td>\n",
              "      <td>0</td>\n",
              "      <td>0</td>\n",
              "      <td>0</td>\n",
              "      <td>0</td>\n",
              "      <td>0</td>\n",
              "      <td>0</td>\n",
              "      <td>0</td>\n",
              "      <td>0</td>\n",
              "      <td>0</td>\n",
              "      <td>0</td>\n",
              "      <td>0</td>\n",
              "      <td>0</td>\n",
              "      <td>0</td>\n",
              "      <td>0</td>\n",
              "      <td>0</td>\n",
              "      <td>0</td>\n",
              "      <td>0</td>\n",
              "      <td>0</td>\n",
              "      <td>0</td>\n",
              "      <td>0</td>\n",
              "      <td>0</td>\n",
              "      <td>0</td>\n",
              "      <td>0</td>\n",
              "      <td>...</td>\n",
              "      <td>0</td>\n",
              "      <td>0</td>\n",
              "      <td>0</td>\n",
              "      <td>0</td>\n",
              "      <td>0</td>\n",
              "      <td>0</td>\n",
              "      <td>0</td>\n",
              "      <td>0</td>\n",
              "      <td>0</td>\n",
              "      <td>0</td>\n",
              "      <td>0</td>\n",
              "      <td>0</td>\n",
              "      <td>0</td>\n",
              "      <td>0</td>\n",
              "      <td>0</td>\n",
              "      <td>0</td>\n",
              "      <td>0</td>\n",
              "      <td>0</td>\n",
              "      <td>0</td>\n",
              "      <td>0</td>\n",
              "      <td>0</td>\n",
              "      <td>0</td>\n",
              "      <td>0</td>\n",
              "      <td>0</td>\n",
              "      <td>0</td>\n",
              "      <td>0</td>\n",
              "      <td>0</td>\n",
              "      <td>0</td>\n",
              "      <td>0</td>\n",
              "      <td>0</td>\n",
              "      <td>0</td>\n",
              "      <td>0</td>\n",
              "      <td>0</td>\n",
              "      <td>0</td>\n",
              "      <td>0</td>\n",
              "      <td>0</td>\n",
              "      <td>3</td>\n",
              "      <td>22.0</td>\n",
              "      <td>1</td>\n",
              "      <td>0</td>\n",
              "    </tr>\n",
              "    <tr>\n",
              "      <th>1</th>\n",
              "      <td>1</td>\n",
              "      <td>0</td>\n",
              "      <td>0</td>\n",
              "      <td>1</td>\n",
              "      <td>0</td>\n",
              "      <td>0</td>\n",
              "      <td>0</td>\n",
              "      <td>0</td>\n",
              "      <td>0</td>\n",
              "      <td>0</td>\n",
              "      <td>0</td>\n",
              "      <td>0</td>\n",
              "      <td>0</td>\n",
              "      <td>0</td>\n",
              "      <td>0</td>\n",
              "      <td>0</td>\n",
              "      <td>0</td>\n",
              "      <td>0</td>\n",
              "      <td>0</td>\n",
              "      <td>0</td>\n",
              "      <td>0</td>\n",
              "      <td>0</td>\n",
              "      <td>0</td>\n",
              "      <td>0</td>\n",
              "      <td>0</td>\n",
              "      <td>0</td>\n",
              "      <td>0</td>\n",
              "      <td>0</td>\n",
              "      <td>0</td>\n",
              "      <td>0</td>\n",
              "      <td>0</td>\n",
              "      <td>0</td>\n",
              "      <td>0</td>\n",
              "      <td>0</td>\n",
              "      <td>0</td>\n",
              "      <td>0</td>\n",
              "      <td>0</td>\n",
              "      <td>0</td>\n",
              "      <td>0</td>\n",
              "      <td>0</td>\n",
              "      <td>...</td>\n",
              "      <td>0</td>\n",
              "      <td>0</td>\n",
              "      <td>0</td>\n",
              "      <td>0</td>\n",
              "      <td>0</td>\n",
              "      <td>0</td>\n",
              "      <td>0</td>\n",
              "      <td>0</td>\n",
              "      <td>0</td>\n",
              "      <td>0</td>\n",
              "      <td>0</td>\n",
              "      <td>0</td>\n",
              "      <td>0</td>\n",
              "      <td>0</td>\n",
              "      <td>0</td>\n",
              "      <td>0</td>\n",
              "      <td>0</td>\n",
              "      <td>0</td>\n",
              "      <td>0</td>\n",
              "      <td>0</td>\n",
              "      <td>0</td>\n",
              "      <td>0</td>\n",
              "      <td>0</td>\n",
              "      <td>0</td>\n",
              "      <td>0</td>\n",
              "      <td>0</td>\n",
              "      <td>0</td>\n",
              "      <td>0</td>\n",
              "      <td>0</td>\n",
              "      <td>0</td>\n",
              "      <td>0</td>\n",
              "      <td>0</td>\n",
              "      <td>0</td>\n",
              "      <td>0</td>\n",
              "      <td>0</td>\n",
              "      <td>0</td>\n",
              "      <td>1</td>\n",
              "      <td>38.0</td>\n",
              "      <td>1</td>\n",
              "      <td>0</td>\n",
              "    </tr>\n",
              "    <tr>\n",
              "      <th>2</th>\n",
              "      <td>0</td>\n",
              "      <td>0</td>\n",
              "      <td>1</td>\n",
              "      <td>1</td>\n",
              "      <td>0</td>\n",
              "      <td>0</td>\n",
              "      <td>0</td>\n",
              "      <td>0</td>\n",
              "      <td>0</td>\n",
              "      <td>0</td>\n",
              "      <td>0</td>\n",
              "      <td>0</td>\n",
              "      <td>0</td>\n",
              "      <td>0</td>\n",
              "      <td>0</td>\n",
              "      <td>0</td>\n",
              "      <td>0</td>\n",
              "      <td>0</td>\n",
              "      <td>0</td>\n",
              "      <td>0</td>\n",
              "      <td>0</td>\n",
              "      <td>0</td>\n",
              "      <td>0</td>\n",
              "      <td>0</td>\n",
              "      <td>0</td>\n",
              "      <td>0</td>\n",
              "      <td>0</td>\n",
              "      <td>0</td>\n",
              "      <td>0</td>\n",
              "      <td>0</td>\n",
              "      <td>0</td>\n",
              "      <td>0</td>\n",
              "      <td>0</td>\n",
              "      <td>0</td>\n",
              "      <td>0</td>\n",
              "      <td>0</td>\n",
              "      <td>0</td>\n",
              "      <td>0</td>\n",
              "      <td>0</td>\n",
              "      <td>0</td>\n",
              "      <td>...</td>\n",
              "      <td>0</td>\n",
              "      <td>0</td>\n",
              "      <td>0</td>\n",
              "      <td>0</td>\n",
              "      <td>0</td>\n",
              "      <td>0</td>\n",
              "      <td>0</td>\n",
              "      <td>0</td>\n",
              "      <td>0</td>\n",
              "      <td>0</td>\n",
              "      <td>0</td>\n",
              "      <td>0</td>\n",
              "      <td>0</td>\n",
              "      <td>0</td>\n",
              "      <td>0</td>\n",
              "      <td>0</td>\n",
              "      <td>0</td>\n",
              "      <td>0</td>\n",
              "      <td>0</td>\n",
              "      <td>0</td>\n",
              "      <td>0</td>\n",
              "      <td>0</td>\n",
              "      <td>0</td>\n",
              "      <td>0</td>\n",
              "      <td>0</td>\n",
              "      <td>0</td>\n",
              "      <td>0</td>\n",
              "      <td>0</td>\n",
              "      <td>0</td>\n",
              "      <td>0</td>\n",
              "      <td>0</td>\n",
              "      <td>0</td>\n",
              "      <td>0</td>\n",
              "      <td>0</td>\n",
              "      <td>0</td>\n",
              "      <td>0</td>\n",
              "      <td>3</td>\n",
              "      <td>26.0</td>\n",
              "      <td>0</td>\n",
              "      <td>0</td>\n",
              "    </tr>\n",
              "  </tbody>\n",
              "</table>\n",
              "<p>3 rows × 195 columns</p>\n",
              "</div>"
            ],
            "text/plain": [
              "   Embarked_C  Embarked_Q  Embarked_S  Sex_female  ...  Pclass   Age  SibSp  Parch\n",
              "0           0           0           1           0  ...       3  22.0      1      0\n",
              "1           1           0           0           1  ...       1  38.0      1      0\n",
              "2           0           0           1           1  ...       3  26.0      0      0\n",
              "\n",
              "[3 rows x 195 columns]"
            ]
          },
          "metadata": {
            "tags": []
          },
          "execution_count": 12
        }
      ]
    },
    {
      "cell_type": "markdown",
      "metadata": {
        "id": "e6zSP_FB2K2e"
      },
      "source": [
        "Vous vous souvenez.. **tout à l'heure** on a créer un seul dataset avec **les données train et test.** Il est temps de **séparer à nouveau** ces datasets pour utiliser **le premier pour l'entraînement** du modèle et **le deuxième pour la prédiction.**"
      ]
    },
    {
      "cell_type": "code",
      "metadata": {
        "trusted": true,
        "id": "L2sPb81WylxE"
      },
      "source": [
        "X_train = new_data[:len(train_data)]\n",
        "X_test = new_data[len(train_data):]"
      ],
      "execution_count": 13,
      "outputs": []
    },
    {
      "cell_type": "markdown",
      "metadata": {
        "id": "wfVvbHYl2Zhb"
      },
      "source": [
        "On créer aussi une variable **y_train** contenant **la colonne a prédire**, Survived, **sous forme d'array** et non de Dataframe. **y_train** doit être sous cette forme pour **effectuer du Machine Learning.**"
      ]
    },
    {
      "cell_type": "code",
      "metadata": {
        "trusted": true,
        "id": "d8VXHQcfylxF"
      },
      "source": [
        "y_train = train_targets.values.ravel()"
      ],
      "execution_count": 14,
      "outputs": []
    },
    {
      "cell_type": "markdown",
      "metadata": {
        "id": "E4eK7koZ9gvN"
      },
      "source": [
        "# **Prédire avec le Machine Learning**"
      ]
    },
    {
      "cell_type": "markdown",
      "metadata": {
        "id": "Xs_Oc6QAKpgK"
      },
      "source": [
        "## **Créer un modèle**"
      ]
    },
    {
      "cell_type": "markdown",
      "metadata": {
        "id": "RAcA1X6H-bZE"
      },
      "source": [
        "Pour ce **jeux de données** nous allons utilisé une **Forêt d'Arbres de Décision** aussi appelé *Random Forest*.\n",
        "\n",
        "Ce modèle de Machine Learning applique **plusieurs Arbres de Décision** sur des parties différentes de notre **jeu de données**. De tel sorte, l'ensemble de ces Arbres de Décision nous donne une **vue d'ensemble** assez **exact sur nos données** et permet ainsi d'effectuer **une bonne prédiction**.\n",
        "\n",
        "En fait, l'Arbre de Décision de base est un **classificateur**. C'est à dire que si on lui donne **les caractéristiques d'un passager** il le classifiera **soit en tant que survivant** soit en tant que non survivant, **idéal pour notre compétition !**\n",
        "\n",
        "L'idée d'un **Random Forest** est de prendre la **prédiction majoritaire** de tous ses Arbres de Décision.\n",
        "\n",
        "Par exemple, on fait **une prédiction sur un passager**. Trois Arbres de Décision classent ce passager **comme survivant** et deux autres font l'inverse. Eh bien le **Random Forest** prend la prédiction majoritaire : **survivant.**"
      ]
    },
    {
      "cell_type": "markdown",
      "metadata": {
        "id": "yQAcFdDaAoqf"
      },
      "source": [
        "On utilise ici la **librairie** *sklearn* pour initialiser un **Random Forest.**\n",
        "\n",
        "La fonction *RandomForestClassifier()* a **trois paramètres principaux** :\n",
        "- **n_estimators**, le nombre d'Arbres de Décision\n",
        "- **max_depth**, la profondeur maximale d'un arbre (None si on ne veut pas de limite prédéfinie)\n",
        "- **random_state**, permet de contrôler l'aspect aléatoire du Random Forest (la séparation du jeu de données pour l'entraînement des Arbres de Décision)"
      ]
    },
    {
      "cell_type": "code",
      "metadata": {
        "trusted": true,
        "id": "SbyI9KiCylxF"
      },
      "source": [
        "from sklearn.ensemble import RandomForestClassifier\n",
        "\n",
        "model = RandomForestClassifier(n_estimators=100, max_depth=3, random_state=3)"
      ],
      "execution_count": 15,
      "outputs": []
    },
    {
      "cell_type": "markdown",
      "metadata": {
        "id": "ggYQcqF-Es7u"
      },
      "source": [
        "On peut ensuite construire **une forêt d'arbres** à partir de **l'ensemble d'apprentissage** (X_train, y_train).\n",
        "\n",
        "En fait, on **entraîne notre modèle** de Random Forest à **prédire les données y_train** en fonction des données x_train."
      ]
    },
    {
      "cell_type": "code",
      "metadata": {
        "colab": {
          "base_uri": "https://localhost:8080/",
          "height": 0
        },
        "id": "kljclVKj23pf",
        "outputId": "0f76ab58-b435-4282-a942-43047094e0bc"
      },
      "source": [
        "model.fit(X_train, y_train)"
      ],
      "execution_count": 16,
      "outputs": [
        {
          "output_type": "execute_result",
          "data": {
            "text/plain": [
              "RandomForestClassifier(bootstrap=True, ccp_alpha=0.0, class_weight=None,\n",
              "                       criterion='gini', max_depth=3, max_features='auto',\n",
              "                       max_leaf_nodes=None, max_samples=None,\n",
              "                       min_impurity_decrease=0.0, min_impurity_split=None,\n",
              "                       min_samples_leaf=1, min_samples_split=2,\n",
              "                       min_weight_fraction_leaf=0.0, n_estimators=100,\n",
              "                       n_jobs=None, oob_score=False, random_state=3, verbose=0,\n",
              "                       warm_start=False)"
            ]
          },
          "metadata": {
            "tags": []
          },
          "execution_count": 16
        }
      ]
    },
    {
      "cell_type": "markdown",
      "metadata": {
        "id": "U5dNxKi8H4KR"
      },
      "source": [
        "On **évalue la précision** de notre modèle avec la **validation croisée** qui sépare notre jeu de données en **K sous-ensemble**, K sous-groupe. Le modèle s'entraîne sur K-1 sous-ensemble et **évalue sa précision** sur le Kème.\n",
        "\n",
        "Pour cela, on utilise la **fonction** *cross_val_score()* de *sklearn* où il faut indiquer **le modèle à évaluer**, les données et **cv** le nombre de **sous-ensemble.**\n"
      ]
    },
    {
      "cell_type": "code",
      "metadata": {
        "colab": {
          "base_uri": "https://localhost:8080/",
          "height": 0
        },
        "id": "n-AlIaWb23zQ",
        "outputId": "003b5267-33f8-43a2-b127-c51ae887c165"
      },
      "source": [
        "from sklearn.model_selection import cross_val_score\n",
        "from statistics import mean\n",
        "\n",
        "scores = cross_val_score(model, X_train, y_train, cv=5)\n",
        "print(mean(scores))"
      ],
      "execution_count": 17,
      "outputs": [
        {
          "output_type": "stream",
          "text": [
            "0.7902014939426276\n"
          ],
          "name": "stdout"
        }
      ]
    },
    {
      "cell_type": "markdown",
      "metadata": {
        "id": "Zgjtz2qqKoa9"
      },
      "source": [
        "## **Améliorer le modèle**"
      ]
    },
    {
      "cell_type": "markdown",
      "metadata": {
        "id": "VX4R4VhKLEOs"
      },
      "source": [
        "La deuxième **étape la plus importante** du Machine Learning est l'**amélioration du modèle.**\n",
        "\n",
        "Une fois qu'on a **réussi** à faire une prédiction, à trouver un **modèle statistique** pour interpréter nos données, **on doit l'optimiser.**\n",
        "\n",
        "Pour cela, il n'y a qu'**une seule méthode :** la pratique. **On ne l'entendra jamais assez** mais le Machine Learning c'est **avant tout de la pratique.**\n",
        "\n",
        "Tester **différentes approches**, retirer certaines données, en ajouter d'autres, **expérimenter différentes combinaisons**, changer **les paramètres du modèle** de Machine Learning, voir même changer de **modèle de Machine Learning.**\n",
        "\n",
        "Bref ! **On l'aura compris..** il faut **explorer** par nous même tous ces **facteurs** pour trouver la **configuration qui convient le mieux** à nos données.\n",
        "\n",
        "Je vous ai présenté précédemment **la meilleure configuration** que j'ai trouvé.\n",
        "\n",
        "Au début, j'ai commencé avec **200 Arbres de décisions** que j'ai réduit ensuite à **100.** J'ai aussi considéré les **numéros de Tickets** dans ma prédiction.. parce que.. eh bien **pourquoi pas ?** Il s'avérait qu'ils faisaient baisser la précision du modèle.. Je les ai donc **mis de côté.**\n",
        "\n",
        "La **configuration actuelle** m'a permis d'avoir une précision de **0.79186** et d'être dans le **top 9% !**\n",
        "\n",
        "On peut encore **faire mieux !** Explorez, expérimentez et testez par vous-même pour **trouver la meilleure solution !**"
      ]
    },
    {
      "cell_type": "markdown",
      "metadata": {
        "id": "ER8SpZIyKeRH"
      },
      "source": [
        "Une fois qu'on a testé **plusieurs approches** et que **le modèle nous satisfait** on peut l'utiliser sur les données à **prédire X_test.**"
      ]
    },
    {
      "cell_type": "code",
      "metadata": {
        "trusted": true,
        "id": "6lfOx5yjylxG"
      },
      "source": [
        "predictions = model.predict(X_test)"
      ],
      "execution_count": 18,
      "outputs": []
    },
    {
      "cell_type": "markdown",
      "metadata": {
        "id": "UaGMuIlPNAoQ"
      },
      "source": [
        "On transforme cette prédiction en **DataFrame** :"
      ]
    },
    {
      "cell_type": "code",
      "metadata": {
        "id": "28vdEUznKnxR"
      },
      "source": [
        "output = pd.DataFrame({'PassengerId': test_data.PassengerId, 'Survived': predictions})"
      ],
      "execution_count": 19,
      "outputs": []
    },
    {
      "cell_type": "markdown",
      "metadata": {
        "id": "DwGTJ_SlNEAo"
      },
      "source": [
        "Pour ensuite que nos prédiction soit facilement **soumissibles a Kaggle en format CSV.**"
      ]
    },
    {
      "cell_type": "code",
      "metadata": {
        "trusted": true,
        "id": "3QYSSGBzylxG"
      },
      "source": [
        "output.to_csv('my_submission.csv', index=False)"
      ],
      "execution_count": 20,
      "outputs": []
    },
    {
      "cell_type": "markdown",
      "metadata": {
        "id": "EKdtmeiONNVF"
      },
      "source": [
        "Et voilà, c'est ainsi qu'on peut **utiliser un modèle simple de Machine Learning** pour faire **mieux que la plupart des participants** à cette compétition ! :)"
      ]
    }
  ]
}